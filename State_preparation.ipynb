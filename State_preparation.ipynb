{
 "cells": [
  {
   "cell_type": "markdown",
   "metadata": {},
   "source": [
    "# Preparing Bell state using VQE\n",
    "\n",
    "__By performing bell basis measurement one can discriminate between two bell states. In general it's not possible to discriminate all the 4 bell states using LOCC__"
   ]
  },
  {
   "cell_type": "code",
   "execution_count": 3,
   "metadata": {},
   "outputs": [],
   "source": [
    "#Import libraries\n",
    "import numpy as np\n",
    "from scipy.optimize import minimize\n",
    "from pyquil import Program, get_qc\n",
    "import pyquil.api as api\n",
    "from pyquil.gates import *\n",
    "qvm = api.QVMConnection()\n",
    "from grove.pyvqe.vqe import VQE\n",
    "from math import pi\n",
    "import warnings\n",
    "warnings.filterwarnings('ignore')"
   ]
  },
  {
   "cell_type": "markdown",
   "metadata": {},
   "source": [
    "__Define the Hamiltonian__"
   ]
  },
  {
   "cell_type": "code",
   "execution_count": 4,
   "metadata": {},
   "outputs": [],
   "source": [
    "# Define the matrix\n",
    "from pyquil.paulis import PauliSum, PauliTerm\n",
    "Ham = PauliSum([PauliTerm.from_list([(\"Z\", 1), (\"Z\", 0)], coefficient=-1)])"
   ]
  },
  {
   "cell_type": "markdown",
   "metadata": {},
   "source": [
    "__Choose ansatz__"
   ]
  },
  {
   "cell_type": "code",
   "execution_count": 161,
   "metadata": {},
   "outputs": [],
   "source": [
    "num_qubit=2 \n",
    "depth=1\n",
    "\n",
    "# ansatz\n",
    "def ansatz(theta):\n",
    "    p = Program()\n",
    "    p+=H(0)\n",
    "    p+=H(0)\n",
    "    k=0\n",
    "    for i in range(depth):\n",
    "           p+=CNOT(0,1)\n",
    "           p+=RY(-pi/2, 1)\n",
    "           p+=RX(theta[k], 1)\n",
    "           p+=RY(pi/2, 1)\n",
    "           p+=CNOT(0,1)\n",
    "           p+=RX(1-theta[k], 0)\n",
    "           p+=RX(1-theta[k], 1)\n",
    "    k=k+1\n",
    "    return p"
   ]
  },
  {
   "cell_type": "markdown",
   "metadata": {},
   "source": [
    "__Optimization with VQE__"
   ]
  },
  {
   "cell_type": "code",
   "execution_count": 162,
   "metadata": {},
   "outputs": [],
   "source": [
    "# Minimize and get approximate of the lowest eigenvalue\n",
    "from grove.pyvqe.vqe import VQE\n",
    "#qc = get_qc('2q-qvm')\n",
    "vqe = VQE(minimizer=minimize, minimizer_kwargs={'method': 'nelder-mead','options': {'xatol': 1.0e-2}})"
   ]
  },
  {
   "cell_type": "markdown",
   "metadata": {},
   "source": [
    "__Running the program without sample size__"
   ]
  },
  {
   "cell_type": "code",
   "execution_count": 165,
   "metadata": {},
   "outputs": [
    {
     "name": "stdout",
     "output_type": "stream",
     "text": [
      "WARNING: Fast method for expectation will be used. Noise\n",
      "                     models will be ineffective\n",
      "{'x': array([1.        , 1.57452825]), 'fun': -0.9999999999999998}\n"
     ]
    }
   ],
   "source": [
    "np.random.seed()\n",
    "initial_params = np.random.uniform(0.0, 2*np.pi, size=2*depth)\n",
    "result = vqe.vqe_run(ansatz, Ham, initial_params)\n",
    "print(result)"
   ]
  },
  {
   "cell_type": "markdown",
   "metadata": {},
   "source": [
    "__Running the program with sample size=1000__"
   ]
  },
  {
   "cell_type": "code",
   "execution_count": 168,
   "metadata": {},
   "outputs": [
    {
     "name": "stdout",
     "output_type": "stream",
     "text": [
      "{'x': array([0.99978425, 1.79091577]), 'fun': -1.0}\n"
     ]
    }
   ],
   "source": [
    "result = vqe.vqe_run(ansatz, Ham, initial_params, samples=1000)\n",
    "print(result)"
   ]
  },
  {
   "cell_type": "markdown",
   "metadata": {},
   "source": [
    "__sample size=100__"
   ]
  },
  {
   "cell_type": "code",
   "execution_count": 166,
   "metadata": {},
   "outputs": [
    {
     "name": "stdout",
     "output_type": "stream",
     "text": [
      "{'x': array([1.52724855, 1.42625731]), 'fun': -0.94}\n"
     ]
    }
   ],
   "source": [
    "result = vqe.vqe_run(ansatz, Ham, initial_params, samples=100)\n",
    "print(result)"
   ]
  },
  {
   "cell_type": "markdown",
   "metadata": {},
   "source": [
    "__sample size=10__"
   ]
  },
  {
   "cell_type": "code",
   "execution_count": 174,
   "metadata": {},
   "outputs": [
    {
     "name": "stdout",
     "output_type": "stream",
     "text": [
      "{'x': array([1.67963754, 1.38428272]), 'fun': -1.0}\n"
     ]
    }
   ],
   "source": [
    "result = vqe.vqe_run(ansatz, Ham, initial_params, samples=10)\n",
    "print(result)"
   ]
  },
  {
   "cell_type": "markdown",
   "metadata": {},
   "source": [
    "__sample size=1__"
   ]
  },
  {
   "cell_type": "code",
   "execution_count": 183,
   "metadata": {},
   "outputs": [
    {
     "name": "stdout",
     "output_type": "stream",
     "text": [
      "{'x': array([1.5996548 , 1.38428272]), 'fun': -1.0}\n"
     ]
    }
   ],
   "source": [
    "result = vqe.vqe_run(ansatz, Ham, initial_params, samples=1)\n",
    "print(result)"
   ]
  },
  {
   "cell_type": "markdown",
   "metadata": {},
   "source": [
    "__Variational Circuit__"
   ]
  },
  {
   "cell_type": "code",
   "execution_count": 184,
   "metadata": {},
   "outputs": [
    {
     "name": "stdout",
     "output_type": "stream",
     "text": [
      "H 0\n",
      "H 0\n",
      "CNOT 0 1\n",
      "RY(-pi/2) 1\n",
      "RX(1.599654799644064) 1\n",
      "RY(pi/2) 1\n",
      "CNOT 0 1\n",
      "RX(-0.599654799644064) 0\n",
      "RX(-0.599654799644064) 1\n",
      "\n"
     ]
    }
   ],
   "source": [
    "print(ansatz(result.x))"
   ]
  },
  {
   "cell_type": "markdown",
   "metadata": {},
   "source": [
    "__Here Hadamard gate is used, which can be constructed using Rx and Ry gates with constant parameters__"
   ]
  },
  {
   "cell_type": "markdown",
   "metadata": {},
   "source": [
    "__For depth=1 we can loop over a range of these angles and plot the expectation value__"
   ]
  },
  {
   "cell_type": "code",
   "execution_count": 185,
   "metadata": {},
   "outputs": [],
   "source": [
    "num_qubit=2 \n",
    "depth=1\n",
    "\n",
    "# ansatz\n",
    "def ansatz(theta):\n",
    "    p = Program()\n",
    "    p+=H(0)\n",
    "    p+=H(0)\n",
    "    k=0\n",
    "    for i in range(depth):\n",
    "           p+=CNOT(0,1)\n",
    "           p+=RY(-pi/2, 1)\n",
    "           p+=RX(theta[k], 1)\n",
    "           p+=RY(pi/2, 1)\n",
    "           p+=CNOT(0,1)\n",
    "           p+=RX(1-theta[k], 0)\n",
    "           p+=RX(1-theta[k], 1)\n",
    "    k=k+1\n",
    "    return p"
   ]
  },
  {
   "cell_type": "code",
   "execution_count": 186,
   "metadata": {},
   "outputs": [],
   "source": [
    "vqe_inst = VQE(minimizer=minimize, minimizer_kwargs={'method': 'nelder-mead'})"
   ]
  },
  {
   "cell_type": "code",
   "execution_count": 187,
   "metadata": {},
   "outputs": [],
   "source": [
    "angle_range = np.linspace(0.0, 2 * np.pi, 50)\n",
    "data = [vqe_inst.expectation(ansatz([angle]), Ham, None, qvm) for angle in angle_range]"
   ]
  },
  {
   "cell_type": "code",
   "execution_count": 188,
   "metadata": {},
   "outputs": [
    {
     "data": {
      "image/png": "[encoded data removed]",
      "text/plain": [
       "<Figure size 432x288 with 1 Axes>"
      ]
     },
     "metadata": {
      "needs_background": "light"
     },
     "output_type": "display_data"
    }
   ],
   "source": [
    "import matplotlib.pyplot as plt \n",
    "plt.xlabel('Angle [radians]') \n",
    "plt.ylabel('Expectation value') \n",
    "plt.plot(angle_range, data) \n",
    "plt.show()"
   ]
  },
  {
   "cell_type": "markdown",
   "metadata": {},
   "source": [
    "__<font size=\"4\">The expectation value $\\approx -1$ (depth=1, sample=None)</font>__"
   ]
  },
  {
   "cell_type": "code",
   "execution_count": 189,
   "metadata": {},
   "outputs": [
    {
     "data": {
      "image/png": "[encoded data removed]",
      "text/plain": [
       "<Figure size 432x288 with 1 Axes>"
      ]
     },
     "metadata": {
      "needs_background": "light"
     },
     "output_type": "display_data"
    }
   ],
   "source": [
    "import warnings\n",
    "warnings.filterwarnings('ignore')\n",
    "angle_range = np.linspace(0.0, 2 * np.pi, 20)\n",
    "data = [vqe_inst.expectation(ansatz([angle]), Ham, 1000, qvm) for angle in angle_range]\n",
    "import matplotlib.pyplot as plt \n",
    "plt.xlabel('Angle [radians]') \n",
    "plt.ylabel('Expectation value') \n",
    "plt.plot(angle_range, data) \n",
    "plt.show()"
   ]
  },
  {
   "cell_type": "markdown",
   "metadata": {},
   "source": [
    "__<font size=\"4\">The expectation value $\\approx -1$ (depth=1, sample=1000)</font>__"
   ]
  },
  {
   "cell_type": "code",
   "execution_count": 191,
   "metadata": {},
   "outputs": [
    {
     "data": {
      "image/png": "[encoded data removed]",
      "text/plain": [
       "<Figure size 432x288 with 1 Axes>"
      ]
     },
     "metadata": {
      "needs_background": "light"
     },
     "output_type": "display_data"
    }
   ],
   "source": [
    "angle_range = np.linspace(0.0, 2 * np.pi, 20)\n",
    "data = [vqe_inst.expectation(ansatz([angle]), Ham, 100, qvm) for angle in angle_range]\n",
    "import matplotlib.pyplot as plt \n",
    "plt.xlabel('Angle [radians]') \n",
    "plt.ylabel('Expectation value') \n",
    "plt.plot(angle_range, data) \n",
    "plt.show()"
   ]
  },
  {
   "cell_type": "markdown",
   "metadata": {},
   "source": [
    "__<font size=\"4\">The expectation value $\\approx -1$ (depth=1, sample=100)</font>__ "
   ]
  },
  {
   "cell_type": "code",
   "execution_count": 197,
   "metadata": {},
   "outputs": [
    {
     "data": {
      "image/png": "[encoded data removed]",
      "text/plain": [
       "<Figure size 432x288 with 1 Axes>"
      ]
     },
     "metadata": {
      "needs_background": "light"
     },
     "output_type": "display_data"
    }
   ],
   "source": [
    "angle_range = np.linspace(0.0, 2 * np.pi, 20)\n",
    "data = [vqe_inst.expectation(ansatz([angle]), Ham, 10, qvm) for angle in angle_range]\n",
    "import matplotlib.pyplot as plt \n",
    "plt.xlabel('Angle [radians]') \n",
    "plt.ylabel('Expectation value') \n",
    "plt.plot(angle_range, data) \n",
    "plt.show()"
   ]
  },
  {
   "cell_type": "markdown",
   "metadata": {},
   "source": [
    "__<font size=\"4\">The expectation value $\\approx -1$ (depth=1, sample=10)</font>__ "
   ]
  },
  {
   "cell_type": "markdown",
   "metadata": {},
   "source": [
    "## Running VQE under noise"
   ]
  },
  {
   "cell_type": "code",
   "execution_count": 198,
   "metadata": {},
   "outputs": [],
   "source": [
    "pauli_channel = [0.01, 0.01, 0.01]\n",
    "noisy_qvm = api.QVMConnection(gate_noise=pauli_channel)"
   ]
  },
  {
   "cell_type": "code",
   "execution_count": 199,
   "metadata": {},
   "outputs": [],
   "source": [
    "initial_angle = [0.5]\n",
    "vqe_inst.minimizer_kwargs = {'method': 'Nelder-mead', 'options': {'initial_simplex': np.array([[0.0], [0.05]]), 'xatol': 1.0e-2}}\n",
    "result = vqe_inst.vqe_run(ansatz, Ham, initial_angle, samples=1000, qvm=noisy_qvm)"
   ]
  },
  {
   "cell_type": "code",
   "execution_count": 200,
   "metadata": {},
   "outputs": [
    {
     "name": "stdout",
     "output_type": "stream",
     "text": [
      "{'x': array([0.91875]), 'fun': -0.742}\n"
     ]
    }
   ],
   "source": [
    "print(result)"
   ]
  },
  {
   "cell_type": "code",
   "execution_count": 231,
   "metadata": {},
   "outputs": [],
   "source": [
    "data = []\n",
    "noises = np.linspace(0.0, 0.01, 4)\n",
    "for noise in noises:\n",
    "    pauli_channel = [noise] * 3\n",
    "    noisy_qvm = api.QVMConnection(gate_noise=pauli_channel)\n",
    "    result = vqe_inst.vqe_run(ansatz, Ham, initial_angle, samples=10000, qvm=noisy_qvm, gate_noise=pauli_channel)\n",
    "    #vqe_inst.vqe_run(ansatz, Ham, initial_angle,gate_noise=pauli_channel)\n",
    "    data.append(result['fun'])"
   ]
  },
  {
   "cell_type": "code",
   "execution_count": 232,
   "metadata": {},
   "outputs": [
    {
     "data": {
      "image/png": "[encoded data removed]",
      "text/plain": [
       "<Figure size 432x288 with 1 Axes>"
      ]
     },
     "metadata": {
      "needs_background": "light"
     },
     "output_type": "display_data"
    }
   ],
   "source": [
    "plt.xlabel('Noise level %') \n",
    "plt.ylabel('Eigenvalue') \n",
    "plt.plot(noises, data) \n",
    "plt.show()"
   ]
  },
  {
   "cell_type": "code",
   "execution_count": null,
   "metadata": {},
   "outputs": [],
   "source": []
  }
 ],
 "metadata": {
  "kernelspec": {
   "display_name": "Python 3",
   "language": "python",
   "name": "python3"
  },
  "language_info": {
   "codemirror_mode": {
    "name": "ipython",
    "version": 3
   },
   "file_extension": ".py",
   "mimetype": "text/x-python",
   "name": "python",
   "nbconvert_exporter": "python",
   "pygments_lexer": "ipython3",
   "version": "3.7.3"
  },
  "latex_envs": {
   "LaTeX_envs_menu_present": true,
   "autoclose": true,
   "autocomplete": true,
   "bibliofile": "biblio.bib",
   "cite_by": "apalike",
   "current_citInitial": 1,
   "eqLabelWithNumbers": true,
   "eqNumInitial": 1,
   "hotkeys": {
    "equation": "Ctrl-E",
    "itemize": "Ctrl-I"
   },
   "labels_anchors": false,
   "latex_user_defs": false,
   "report_style_numbering": false,
   "user_envs_cfg": false
  },
  "toc": {
   "base_numbering": 1,
   "nav_menu": {},
   "number_sections": true,
   "sideBar": true,
   "skip_h1_title": false,
   "title_cell": "Table of Contents",
   "title_sidebar": "Contents",
   "toc_cell": false,
   "toc_position": {},
   "toc_section_display": true,
   "toc_window_display": false
  }
 },
 "nbformat": 4,
 "nbformat_minor": 4
}
